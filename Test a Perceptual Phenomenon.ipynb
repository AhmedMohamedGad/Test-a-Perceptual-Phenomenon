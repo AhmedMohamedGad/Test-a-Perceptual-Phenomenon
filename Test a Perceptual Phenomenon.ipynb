{
 "cells": [
  {
   "cell_type": "markdown",
   "metadata": {},
   "source": [
    "### Analyzing the Stroop Effect\n",
    "Perform the analysis in the space below. Remember to follow [the instructions](https://docs.google.com/document/d/1-OkpZLjG_kX9J6LIQ5IltsqMzVWjh36QpnP2RYpVdPU/pub?embedded=True) and review the [project rubric](https://review.udacity.com/#!/rubrics/71/view) before submitting. Once you've completed the analysis and write-up, download this file as a PDF or HTML file, upload that PDF/HTML into the workspace here (click on the orange Jupyter icon in the upper left then Upload), then use the Submit Project button at the bottom of this page. This will create a zip file containing both this .ipynb doc and the PDF/HTML doc that will be submitted for your project.\n",
    "\n",
    "\n",
    "(1) What is the independent variable? What is the dependent variable?"
   ]
  },
  {
   "cell_type": "markdown",
   "metadata": {},
   "source": [
    "**Independent variable** - the two conditions - congruent words, and incongruent words.<br>\n",
    "**Dependent variable** - reaction time in each of the two conditions."
   ]
  },
  {
   "cell_type": "markdown",
   "metadata": {},
   "source": [
    "(2) What is an appropriate set of hypotheses for this task? Specify your null and alternative hypotheses, and clearly define any notation used. Justify your choices."
   ]
  },
  {
   "cell_type": "markdown",
   "metadata": {},
   "source": [
    "**Hypotheses:**\n",
    "\n",
    "Null hypotheses, $H_0$ - the reaction time of the congruent words condition is greater than or equal to the incongruent words condition: $\\mu_{congruent} \\ge \\mu_{incongruent}$\n",
    "\n",
    "Alternate hypotheses, $H_A$ - the reaction time of the congruent words condition is less than the incongruent words condition: $\\mu_{congruent} < \\mu_{incongruent}$\n",
    "\n",
    "Where: $\\mu_{congruent}$ - Mean of congruent reaction times in seconds, $\\mu_{incongruent}$ - Mean of incongruent reaction times in seconds <\\br>\n",
    "\n",
    "\n",
    "To determine if list congruity has any effect on reaction time the Recommended statistical test are dependent samples t-test, one-tailed and negative. it suffices to test hypothesis #2. It is a broader statement that makes no assumptions as to which mean is greater. Since we do not have information on population parameters, a **dependent samples t-test** will be appropriate to test the alternative hypothesis against the null. By examining how the sample means differ from each other, we will be able to make a determination about how the population means differ. The samples are *dependent* because each participant is timed twice: once with the congruent list and once with the incongruent list.\n",
    "\n",
    "After doing the test myself on the [interactive Stroof Effect website](https://faculty.washington.edu/chudler/java/ready.html), it took me congruent = 13.287 secs, incongruent = 27.269 secs. I expect to reject the null hypothesis and come to the conclusion that it takes significantly longer to identify colors where the text does not match the ink. But I am a sample size of one, so we will need to examine a larger sample to establish this. \n",
    "  \n",
    "[^stroop]: https://en.wikipedia.org/wiki/Stroop_effect \"Stroop Effect\"\n",
    "[^stroop paper]: http://psychclassics.yorku.ca/Stroop/"
   ]
  },
  {
   "cell_type": "markdown",
   "metadata": {},
   "source": [
    "(3) Report some descriptive statistics regarding this dataset. Include at least one measure of central tendency and at least one measure of variability. The name of the data file is 'stroopdata.csv'."
   ]
  },
  {
   "cell_type": "code",
   "execution_count": 32,
   "metadata": {},
   "outputs": [
    {
     "data": {
      "text/html": [
       "<div>\n",
       "<style>\n",
       "    .dataframe thead tr:only-child th {\n",
       "        text-align: right;\n",
       "    }\n",
       "\n",
       "    .dataframe thead th {\n",
       "        text-align: left;\n",
       "    }\n",
       "\n",
       "    .dataframe tbody tr th {\n",
       "        vertical-align: top;\n",
       "    }\n",
       "</style>\n",
       "<table border=\"1\" class=\"dataframe\">\n",
       "  <thead>\n",
       "    <tr style=\"text-align: right;\">\n",
       "      <th></th>\n",
       "      <th>Congruent</th>\n",
       "      <th>Incongruent</th>\n",
       "    </tr>\n",
       "  </thead>\n",
       "  <tbody>\n",
       "    <tr>\n",
       "      <th>0</th>\n",
       "      <td>12.079</td>\n",
       "      <td>19.278</td>\n",
       "    </tr>\n",
       "    <tr>\n",
       "      <th>1</th>\n",
       "      <td>16.791</td>\n",
       "      <td>18.741</td>\n",
       "    </tr>\n",
       "    <tr>\n",
       "      <th>2</th>\n",
       "      <td>9.564</td>\n",
       "      <td>21.214</td>\n",
       "    </tr>\n",
       "    <tr>\n",
       "      <th>3</th>\n",
       "      <td>8.630</td>\n",
       "      <td>15.687</td>\n",
       "    </tr>\n",
       "    <tr>\n",
       "      <th>4</th>\n",
       "      <td>14.669</td>\n",
       "      <td>22.803</td>\n",
       "    </tr>\n",
       "    <tr>\n",
       "      <th>5</th>\n",
       "      <td>12.238</td>\n",
       "      <td>20.878</td>\n",
       "    </tr>\n",
       "    <tr>\n",
       "      <th>6</th>\n",
       "      <td>14.692</td>\n",
       "      <td>24.572</td>\n",
       "    </tr>\n",
       "    <tr>\n",
       "      <th>7</th>\n",
       "      <td>8.987</td>\n",
       "      <td>17.394</td>\n",
       "    </tr>\n",
       "    <tr>\n",
       "      <th>8</th>\n",
       "      <td>9.401</td>\n",
       "      <td>20.762</td>\n",
       "    </tr>\n",
       "    <tr>\n",
       "      <th>9</th>\n",
       "      <td>14.480</td>\n",
       "      <td>26.282</td>\n",
       "    </tr>\n",
       "    <tr>\n",
       "      <th>10</th>\n",
       "      <td>22.328</td>\n",
       "      <td>24.524</td>\n",
       "    </tr>\n",
       "    <tr>\n",
       "      <th>11</th>\n",
       "      <td>15.298</td>\n",
       "      <td>18.644</td>\n",
       "    </tr>\n",
       "    <tr>\n",
       "      <th>12</th>\n",
       "      <td>15.073</td>\n",
       "      <td>17.510</td>\n",
       "    </tr>\n",
       "    <tr>\n",
       "      <th>13</th>\n",
       "      <td>16.929</td>\n",
       "      <td>20.330</td>\n",
       "    </tr>\n",
       "    <tr>\n",
       "      <th>14</th>\n",
       "      <td>18.200</td>\n",
       "      <td>35.255</td>\n",
       "    </tr>\n",
       "    <tr>\n",
       "      <th>15</th>\n",
       "      <td>12.130</td>\n",
       "      <td>22.158</td>\n",
       "    </tr>\n",
       "    <tr>\n",
       "      <th>16</th>\n",
       "      <td>18.495</td>\n",
       "      <td>25.139</td>\n",
       "    </tr>\n",
       "    <tr>\n",
       "      <th>17</th>\n",
       "      <td>10.639</td>\n",
       "      <td>20.429</td>\n",
       "    </tr>\n",
       "    <tr>\n",
       "      <th>18</th>\n",
       "      <td>11.344</td>\n",
       "      <td>17.425</td>\n",
       "    </tr>\n",
       "    <tr>\n",
       "      <th>19</th>\n",
       "      <td>12.369</td>\n",
       "      <td>34.288</td>\n",
       "    </tr>\n",
       "    <tr>\n",
       "      <th>20</th>\n",
       "      <td>12.944</td>\n",
       "      <td>23.894</td>\n",
       "    </tr>\n",
       "  </tbody>\n",
       "</table>\n",
       "</div>"
      ],
      "text/plain": [
       "    Congruent  Incongruent\n",
       "0      12.079       19.278\n",
       "1      16.791       18.741\n",
       "2       9.564       21.214\n",
       "3       8.630       15.687\n",
       "4      14.669       22.803\n",
       "5      12.238       20.878\n",
       "6      14.692       24.572\n",
       "7       8.987       17.394\n",
       "8       9.401       20.762\n",
       "9      14.480       26.282\n",
       "10     22.328       24.524\n",
       "11     15.298       18.644\n",
       "12     15.073       17.510\n",
       "13     16.929       20.330\n",
       "14     18.200       35.255\n",
       "15     12.130       22.158\n",
       "16     18.495       25.139\n",
       "17     10.639       20.429\n",
       "18     11.344       17.425\n",
       "19     12.369       34.288\n",
       "20     12.944       23.894"
      ]
     },
     "execution_count": 32,
     "metadata": {},
     "output_type": "execute_result"
    }
   ],
   "source": [
    "# Perform the analysis here\n",
    "import pandas as pd\n",
    "\n",
    "stroop_data = pd.read_csv(\"stroopdata.csv\")\n",
    "stroop_data.head(21)"
   ]
  },
  {
   "cell_type": "code",
   "execution_count": 20,
   "metadata": {},
   "outputs": [
    {
     "data": {
      "text/plain": [
       "(24, 2)"
      ]
     },
     "execution_count": 20,
     "metadata": {},
     "output_type": "execute_result"
    }
   ],
   "source": [
    "stroop_data.shape"
   ]
  },
  {
   "cell_type": "code",
   "execution_count": 25,
   "metadata": {},
   "outputs": [
    {
     "data": {
      "text/html": [
       "<div>\n",
       "<style>\n",
       "    .dataframe thead tr:only-child th {\n",
       "        text-align: right;\n",
       "    }\n",
       "\n",
       "    .dataframe thead th {\n",
       "        text-align: left;\n",
       "    }\n",
       "\n",
       "    .dataframe tbody tr th {\n",
       "        vertical-align: top;\n",
       "    }\n",
       "</style>\n",
       "<table border=\"1\" class=\"dataframe\">\n",
       "  <thead>\n",
       "    <tr style=\"text-align: right;\">\n",
       "      <th></th>\n",
       "      <th>Congruent</th>\n",
       "      <th>Incongruent</th>\n",
       "    </tr>\n",
       "  </thead>\n",
       "  <tbody>\n",
       "    <tr>\n",
       "      <th>count</th>\n",
       "      <td>24.000000</td>\n",
       "      <td>24.000000</td>\n",
       "    </tr>\n",
       "    <tr>\n",
       "      <th>mean</th>\n",
       "      <td>14.051125</td>\n",
       "      <td>22.015917</td>\n",
       "    </tr>\n",
       "    <tr>\n",
       "      <th>std</th>\n",
       "      <td>3.559358</td>\n",
       "      <td>4.797057</td>\n",
       "    </tr>\n",
       "    <tr>\n",
       "      <th>min</th>\n",
       "      <td>8.630000</td>\n",
       "      <td>15.687000</td>\n",
       "    </tr>\n",
       "    <tr>\n",
       "      <th>25%</th>\n",
       "      <td>11.895250</td>\n",
       "      <td>18.716750</td>\n",
       "    </tr>\n",
       "    <tr>\n",
       "      <th>50%</th>\n",
       "      <td>14.356500</td>\n",
       "      <td>21.017500</td>\n",
       "    </tr>\n",
       "    <tr>\n",
       "      <th>75%</th>\n",
       "      <td>16.200750</td>\n",
       "      <td>24.051500</td>\n",
       "    </tr>\n",
       "    <tr>\n",
       "      <th>max</th>\n",
       "      <td>22.328000</td>\n",
       "      <td>35.255000</td>\n",
       "    </tr>\n",
       "  </tbody>\n",
       "</table>\n",
       "</div>"
      ],
      "text/plain": [
       "       Congruent  Incongruent\n",
       "count  24.000000    24.000000\n",
       "mean   14.051125    22.015917\n",
       "std     3.559358     4.797057\n",
       "min     8.630000    15.687000\n",
       "25%    11.895250    18.716750\n",
       "50%    14.356500    21.017500\n",
       "75%    16.200750    24.051500\n",
       "max    22.328000    35.255000"
      ]
     },
     "execution_count": 25,
     "metadata": {},
     "output_type": "execute_result"
    }
   ],
   "source": [
    "stroop_data.describe()"
   ]
  },
  {
   "cell_type": "markdown",
   "metadata": {},
   "source": [
    "From above:\n",
    "\n",
    "* Mean - \n",
    "   * Congruent = 14.05 secs\n",
    "   * Incongruent = 22.02 secs\n",
    "* Standard deviation - \n",
    "   * Congruent = 3.56 secs\n",
    "   * Incongruent = 4.80 secs\n",
    "* Median - \n",
    "   * Congruent = 14.36 secs\n",
    "   * Incongruent = 21.02 secs"
   ]
  },
  {
   "cell_type": "markdown",
   "metadata": {},
   "source": [
    "(4) Provide one or two visualizations that show the distribution of the sample data. Write one or two sentences noting what you observe about the plot or plots."
   ]
  },
  {
   "cell_type": "code",
   "execution_count": 26,
   "metadata": {},
   "outputs": [
    {
     "data": {
      "image/png": "[encoded data removed]",
      "text/plain": [
       "<matplotlib.figure.Figure at 0x7f6aeb55dc50>"
      ]
     },
     "metadata": {},
     "output_type": "display_data"
    }
   ],
   "source": [
    "# Build the visualizations here\n",
    "import matplotlib.pyplot as plt\n",
    "import seaborn as sns\n",
    "#Histogram\n",
    "sns.set_style(\"whitegrid\")\n",
    "fig = plt.figure(figsize=(12,6))\n",
    "ax1 = fig.add_subplot(1,2,1)\n",
    "ax1.set_xlim(5,40)\n",
    "ax1.set_ylim(0,4)\n",
    "sns.distplot(stroop_data[\"Congruent\"], bins=10, kde=False, color=(95/255,158/255,209/255))\n",
    "ax2 = fig.add_subplot(1,2,2)\n",
    "ax2.set_xlim(5,40)\n",
    "ax2.set_ylim(0,4)\n",
    "sns.distplot(stroop_data[\"Incongruent\"], bins=15, kde=False, color=(200/255, 82/255, 0/255))\n",
    "sns.despine(left=True, bottom=True)\n",
    "ax1.set_title(\"Congruent Task \")\n",
    "ax1.set_xlabel(\"Time (Seconds)\")\n",
    "ax1.set_yticks([0,1,2,3,4,5,6])\n",
    "ax2.set_title(\"Incongruent Task \")\n",
    "ax2.set_xlabel(\"Time (Seconds)\")\n",
    "ax2.set_yticks([0,1,2,3,4,5,6])\n",
    "plt.show()"
   ]
  },
  {
   "cell_type": "code",
   "execution_count": 27,
   "metadata": {},
   "outputs": [
    {
     "data": {
      "image/png": "[encoded data removed]",
      "text/plain": [
       "<matplotlib.figure.Figure at 0x7f6aeb4b1b00>"
      ]
     },
     "metadata": {},
     "output_type": "display_data"
    }
   ],
   "source": [
    "#Different type of plot - Kernel density plot\n",
    "sns.set_style(\"whitegrid\")\n",
    "fig = plt.figure(figsize=(12,6))\n",
    "ax1 = fig.add_subplot(1,2,1)\n",
    "sns.kdeplot(stroop_data[\"Congruent\"], shade=True, legend=False, color=(95/255,158/255,209/255))\n",
    "ax2 = fig.add_subplot(1,2,2)\n",
    "sns.kdeplot(stroop_data[\"Incongruent\"], shade=True, legend=False, color=(200/255, 82/255, 0/255))\n",
    "sns.despine(left=True, bottom=True)\n",
    "ax1.set_title(\"Congruent Task\")\n",
    "ax1.set_xlabel(\"Time (Seconds)\")\n",
    "ax2.set_title(\"Incongruent Task\")\n",
    "ax2.set_xlabel(\"Time (Seconds)\")\n",
    "plt.show()"
   ]
  },
  {
   "cell_type": "code",
   "execution_count": 28,
   "metadata": {},
   "outputs": [
    {
     "data": {
      "image/png": "[encoded data removed]",
      "text/plain": [
       "<matplotlib.figure.Figure at 0x7f6aeb48bb00>"
      ]
     },
     "metadata": {},
     "output_type": "display_data"
    }
   ],
   "source": [
    "# another plot  - Box plot\n",
    "sns.set_style(\"whitegrid\")\n",
    "fig, ax = plt.subplots(figsize=(7,6))\n",
    "sns.boxplot(data=stroop_data, orient=\"h\", palette=[(95/255,158/255,209/255),(200/255, 82/255, 0/255)])\n",
    "sns.despine(left=True, bottom=True)\n",
    "ax.set_title(\"Congruent vs Incongruent Task\")\n",
    "ax.set_xlabel(\"Time (Seconds)\")\n",
    "plt.show()"
   ]
  },
  {
   "cell_type": "markdown",
   "metadata": {},
   "source": [
    "**Observations:**\n",
    "\n",
    "1. Distribution of congruent and incongruent times are dense around the median and less spread out.\n",
    "2. It is easily noticeable that the incongruent times are considerably higher than congruent times."
   ]
  },
  {
   "cell_type": "markdown",
   "metadata": {},
   "source": [
    "(5)  Now, perform the statistical test and report your results. What is your confidence level or Type I error associated with your test? What is your conclusion regarding the hypotheses you set up? Did the results match up with your expectations? **Hint:**  Think about what is being measured on each individual, and what statistic best captures how an individual reacts in each environment."
   ]
  },
  {
   "cell_type": "code",
   "execution_count": 29,
   "metadata": {},
   "outputs": [
    {
     "data": {
      "text/plain": [
       "4.8648269103590556"
      ]
     },
     "execution_count": 29,
     "metadata": {},
     "output_type": "execute_result"
    }
   ],
   "source": [
    "stroop_data[\"Congruent - Incongruent\"] = stroop_data[\"Congruent\"] - stroop_data[\"Incongruent\"]\n",
    "stroop_data[\"Congruent - Incongruent\"].std()"
   ]
  },
  {
   "cell_type": "markdown",
   "metadata": {},
   "source": [
    "$s_{c-i} = 4.86$ secs"
   ]
  },
  {
   "cell_type": "code",
   "execution_count": 30,
   "metadata": {},
   "outputs": [
    {
     "name": "stdout",
     "output_type": "stream",
     "text": [
      "-7.96479166667 0.993028634778 Ttest_relResult(statistic=-8.020706944109957, pvalue=4.1030005857111781e-08)\n"
     ]
    }
   ],
   "source": [
    "# Perform the statistical test here\n",
    "import math\n",
    "from scipy import stats\n",
    "\n",
    "mean_diff = stroop_data[\"Congruent\"].mean()-stroop_data[\"Incongruent\"].mean()\n",
    "std_err = stroop_data[\"Congruent - Incongruent\"].std()/math.sqrt(stroop_data[\"Congruent\"].count())\n",
    "print(mean_diff, std_err, stats.ttest_rel(stroop_data[\"Congruent\"], stroop_data[\"Incongruent\"]))"
   ]
  },
  {
   "cell_type": "markdown",
   "metadata": {},
   "source": [
    "$\\bar x_c - \\bar x_i = -7.96$ secs\n",
    "\n",
    "S.E. = 0.99 secs\n",
    "\n",
    "$t_{stat} = -8.021$\n",
    "\n",
    "P-value = 0.00000004\n",
    "\n",
    "t(23) = -8.021, p=.00, one-tailed\n",
    "\n",
    "$\\alpha = 0.01$ i.e. confidence level = 99%\n",
    "\n",
    "$t_{critical} = -2.500$\n",
    "\n",
    "**Decision: Reject $H_0$ i.e. Reject - \"the reaction time of the congruent words condition is greater than or equal to the incongruent words condition\"**\n",
    "\n",
    "**This means, that the reaction time of the congruent words condition is significantly less than the incongruent words condition.**"
   ]
  },
  {
   "cell_type": "markdown",
   "metadata": {},
   "source": [
    "**Conclusion**<br>\n",
    "We see that the average time of sample under congruent conditions is different from the average time of sample under incongruent conditions. My confidence level is .001(0.1%), and since the degree of freedom is n - 1 which is 23, my critical statistic value is ± 3.768. Also, I reject the null hypothesis. Finally, as I expected when I saw the boxplot, the results from t-test match up with my expectations."
   ]
  },
  {
   "cell_type": "markdown",
   "metadata": {},
   "source": [
    "(6) Optional: What do you think is responsible for the effects observed? Can you think of an alternative or similar task that would result in a similar effect? Some research about the problem will be helpful for thinking about these two questions!"
   ]
  },
  {
   "cell_type": "markdown",
   "metadata": {},
   "source": [
    "I think the reason of the Stroop effect is because in the incongruent word condition the words distract the attention. According to Wikepedia, the Simon effect is similar to the Stroop effect. The Simon effect refers to the finding that reactions are faster and accurate when stimulus occurs in the same relative location."
   ]
  },
  {
   "cell_type": "code",
   "execution_count": null,
   "metadata": {},
   "outputs": [],
   "source": []
  }
 ],
 "metadata": {
  "kernelspec": {
   "display_name": "Python 3",
   "language": "python",
   "name": "python3"
  },
  "language_info": {
   "codemirror_mode": {
    "name": "ipython",
    "version": 3
   },
   "file_extension": ".py",
   "mimetype": "text/x-python",
   "name": "python",
   "nbconvert_exporter": "python",
   "pygments_lexer": "ipython3",
   "version": "3.7.0"
  }
 },
 "nbformat": 4,
 "nbformat_minor": 2
}
